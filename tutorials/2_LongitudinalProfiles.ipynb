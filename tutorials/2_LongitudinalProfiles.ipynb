{
 "cells": [
  {
   "cell_type": "markdown",
   "metadata": {},
   "source": [
    "# Longitudinal profiles"
   ]
  },
  {
   "cell_type": "code",
   "execution_count": 11,
   "metadata": {},
   "outputs": [],
   "source": [
    "import matplotlib\n",
    "import matplotlib.pyplot as plt\n",
    "from scipy.optimize import curve_fit\n",
    "from scipy.special import erf, erfc, gamma\n",
    "import numpy as np\n",
    "import pandas as pd\n",
    "import uproot"
   ]
  },
  {
   "cell_type": "markdown",
   "metadata": {},
   "source": [
    "In this notebook we give a look at longitudinal profiles. In the previous tutorial, we have seen how to construct the longitudinal profile. Here we are going to fit it and to study which information we can extract from the fit parameters. First of all we load our sample:"
   ]
  },
  {
   "cell_type": "code",
   "execution_count": 2,
   "metadata": {},
   "outputs": [],
   "source": [
    "dirname = '/data_CMS/cms/bonanomi/'\n",
    "fname = dirname + 'ntuple_435.root'\n",
    "key='rechitntupler/hits'"
   ]
  },
  {
   "cell_type": "code",
   "execution_count": 3,
   "metadata": {},
   "outputs": [],
   "source": [
    "branches = [u'rechit_chip', 'rechit_module', 'rechit_channel',\n",
    "                u'rechit_energy', 'rechit_layer']"
   ]
  },
  {
   "cell_type": "code",
   "execution_count": 4,
   "metadata": {},
   "outputs": [],
   "source": [
    "ttree = uproot.open(fname)[key]\n",
    "df = ttree.pandas.df(branches, entrystop=5000)"
   ]
  },
  {
   "cell_type": "code",
   "execution_count": 5,
   "metadata": {},
   "outputs": [],
   "source": [
    "df = df.reset_index(level=1,drop=True)\n",
    "df.index.names = ['event']"
   ]
  },
  {
   "cell_type": "markdown",
   "metadata": {},
   "source": [
    "<font color='green'>Create the longitudinal profile and plot it</font>. The average longitudinal shower profiles can be described by a gamma distribution, following what is known as Longo's parametrisation:\n",
    "\n",
    "\\\\[\n",
    "\\frac{dE}{dt} = \\left\\langle E_0\\right\\rangle \\frac{(\\beta t)^{\\alpha-1}\\beta\\exp(-\\beta t)}{\\Gamma(\\alpha)}\n",
    "\\\\]\n",
    "\n",
    "It depends on the free parameters: $E_0$, the average shower energy, $\\alpha$ and $\\beta$, defining the shape of the profile. In [1](https://arxiv.org/pdf/hep-ex/0001020.pdf) you can find Grindhammer's paper on the parametrization of electromagnetic showers in calorimeters. \n",
    "\n",
    "<font color='green'>Implement Longo's parametrisation and fit the shower profile</font>. Check the values of the fit free parameters: do they make sense? Do you need to put some constraints on the parameters (e.g. initial guess with `p0`) to help the fit converge?"
   ]
  },
  {
   "cell_type": "code",
   "execution_count": 1,
   "metadata": {},
   "outputs": [],
   "source": [
    "def showerShape(t, alpha, beta, E):\n",
    "    '''Gamma distribution to fit longitudial shower shapes in particles calorimeters.\n",
    "    See equation 2 in https://arxiv.org/pdf/hep-ex/0001020v1.pdf\n",
    "    '''\n",
    "    ## Implement here the Longo's parametrization"
   ]
  },
  {
   "cell_type": "code",
   "execution_count": 2,
   "metadata": {},
   "outputs": [],
   "source": [
    "# Create the average longitudinal profile\n",
    "# Fit the average longitudinal profile"
   ]
  },
  {
   "cell_type": "markdown",
   "metadata": {},
   "source": [
    "# Exercises"
   ]
  },
  {
   "cell_type": "markdown",
   "metadata": {},
   "source": [
    "In the `dirname` folder you can find the files for all the other beam energies. For each dataset:\n",
    " * Open the file as a pandas `df`;\n",
    " * Create the average longitudinal profiles and fit them with the shower shape parametrization you have implemented above;\n",
    " * Plot the `<E_0>` values from the fit vs the true beam energy. Do you get a linear relation? Which is the conversion factor from the MIP energy scale to the GeV one?"
   ]
  },
  {
   "cell_type": "code",
   "execution_count": null,
   "metadata": {},
   "outputs": [],
   "source": []
  }
 ],
 "metadata": {
  "kernelspec": {
   "display_name": "Python 3",
   "language": "python",
   "name": "python3"
  },
  "language_info": {
   "codemirror_mode": {
    "name": "ipython",
    "version": 3
   },
   "file_extension": ".py",
   "mimetype": "text/x-python",
   "name": "python",
   "nbconvert_exporter": "python",
   "pygments_lexer": "ipython3",
   "version": "3.6.8"
  }
 },
 "nbformat": 4,
 "nbformat_minor": 2
}
